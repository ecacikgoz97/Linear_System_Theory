{
 "cells": [
  {
   "cell_type": "markdown",
   "metadata": {},
   "source": [
    "# Homework Set #3: Question 3.(f)\n",
    "## Emre Can Açıkgöz\n",
    "### December 9, 2020"
   ]
  },
  {
   "cell_type": "code",
   "execution_count": 1,
   "metadata": {},
   "outputs": [],
   "source": [
    "import numpy as np\n",
    "import matplotlib.pyplot as plt"
   ]
  },
  {
   "cell_type": "code",
   "execution_count": 2,
   "metadata": {},
   "outputs": [],
   "source": [
    "# Set seed\n",
    "np.random.seed(405)\n",
    "\n",
    "# Create impulse reponse tap, 4 random scalers\n",
    "h0 = np.random.randint(0, 11, 1)\n",
    "h1 = np.random.randint(0, 11, 1)\n",
    "h2 = np.random.randint(0, 11, 1)\n",
    "h3 = np.random.randint(0, 11, 1)\n",
    "\n",
    "# Create vectors\n",
    "h0_vector = np.asarray([h0,h1,h2,h3])\n",
    "h1_vector = np.asarray([h3,h0,h1,h2])\n",
    "h2_vector = np.asarray([h2,h3,h0,h1])\n",
    "h3_vector = np.asarray([h1,h2,h3,h0])"
   ]
  },
  {
   "cell_type": "code",
   "execution_count": 3,
   "metadata": {},
   "outputs": [
    {
     "data": {
      "image/png": "[encoded data removed]",
      "text/plain": [
       "<Figure size 432x288 with 1 Axes>"
      ]
     },
     "metadata": {
      "needs_background": "light"
     },
     "output_type": "display_data"
    }
   ],
   "source": [
    "# Show impulse response taps for visualization\n",
    "plt.stem([h0,h1,h2,h3]);"
   ]
  },
  {
   "cell_type": "code",
   "execution_count": 4,
   "metadata": {},
   "outputs": [
    {
     "name": "stdout",
     "output_type": "stream",
     "text": [
      "[[4 8 6 3]\n",
      " [3 4 8 6]\n",
      " [6 3 4 8]\n",
      " [8 6 3 4]]\n",
      "\n",
      "Size of H matrix is (4, 4)\n"
     ]
    }
   ],
   "source": [
    "# Create H matrix\n",
    "H = np.column_stack((h0_vector,h1_vector,h2_vector,h3_vector))\n",
    "\n",
    "print(H)\n",
    "print(\"\\nSize of H matrix is\", H.shape)"
   ]
  },
  {
   "cell_type": "code",
   "execution_count": 5,
   "metadata": {},
   "outputs": [],
   "source": [
    "# Create eigenvalues and eigenvectors\n",
    "eigenvalues, eigenvectors = np.linalg.eig(H)"
   ]
  },
  {
   "cell_type": "code",
   "execution_count": 6,
   "metadata": {},
   "outputs": [
    {
     "name": "stdout",
     "output_type": "stream",
     "text": [
      "[21.+0.j -2.+5.j -2.-5.j -1.+0.j]\n"
     ]
    }
   ],
   "source": [
    "print(eigenvalues)"
   ]
  },
  {
   "cell_type": "code",
   "execution_count": 7,
   "metadata": {},
   "outputs": [
    {
     "name": "stdout",
     "output_type": "stream",
     "text": [
      "[[-5.00000000e-01+0.00000000e+00j  1.11022302e-16-5.00000000e-01j\n",
      "   1.11022302e-16+5.00000000e-01j -5.00000000e-01+0.00000000e+00j]\n",
      " [-5.00000000e-01+0.00000000e+00j  5.00000000e-01+0.00000000e+00j\n",
      "   5.00000000e-01-0.00000000e+00j  5.00000000e-01+0.00000000e+00j]\n",
      " [-5.00000000e-01+0.00000000e+00j -1.94289029e-16+5.00000000e-01j\n",
      "  -1.94289029e-16-5.00000000e-01j -5.00000000e-01+0.00000000e+00j]\n",
      " [-5.00000000e-01+0.00000000e+00j -5.00000000e-01-2.49800181e-16j\n",
      "  -5.00000000e-01+2.49800181e-16j  5.00000000e-01+0.00000000e+00j]]\n"
     ]
    }
   ],
   "source": [
    "print(eigenvectors)"
   ]
  },
  {
   "cell_type": "markdown",
   "metadata": {},
   "source": [
    "### Comment: \n",
    "As I mentioned in our question, Eigenvectors are the columns of FFT Matrix. When we multiply H by F_k, we simply multiply H with eigenvector."
   ]
  },
  {
   "cell_type": "code",
   "execution_count": null,
   "metadata": {},
   "outputs": [],
   "source": []
  }
 ],
 "metadata": {
  "kernelspec": {
   "display_name": "Python 3",
   "language": "python",
   "name": "python3"
  },
  "language_info": {
   "codemirror_mode": {
    "name": "ipython",
    "version": 3
   },
   "file_extension": ".py",
   "mimetype": "text/x-python",
   "name": "python",
   "nbconvert_exporter": "python",
   "pygments_lexer": "ipython3",
   "version": "3.8.5"
  }
 },
 "nbformat": 4,
 "nbformat_minor": 4
}
